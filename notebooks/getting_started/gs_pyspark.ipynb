{
 "cells": [
  {
   "attachments": {},
   "cell_type": "markdown",
   "metadata": {},
   "source": [
    "# **Getting started [Py]Spark**\n",
    "\n",
    "Le document le plus complet reste a priori https://runawayhorse001.github.io/LearningApacheSpark/pyspark.pdf\n",
    "\n",
    "Je vais également en profiter pour m'exercer à Scala (premier contact).\n",
    "\n",
    "* La page Wikipedia de Spark également.\n",
    "    * en complément de Wikipedia : https://towardsdatascience.com/getting-started-with-apache-spark-cb703e1b3ee9\n",
    "\n",
    "* Tuto de couverture d'ensemble qui a l'air pas mal : https://www.datacamp.com/tutorial/pyspark-tutorial-getting-started-with-pyspark\n",
    "\n",
    "* Celui-ci est du même type, mais plus avancé (EC2, etc) : https://www.districtdatalabs.com/getting-started-with-spark-in-python\n",
    "\n",
    "* Celui-là est entre les deux, orienté Scala, et résume bien l'architecture, pas mal : https://www.tutorialspoint.com/apache_spark/apache_spark_quick_guide.htm\n",
    "\n",
    "* https://sparkbyexamples.com/ : c'est assez complet, mais pas à jour pour Spark 3.4.0 - Comme d'habitude, traduction avec l'aide de chat.\n",
    "\n",
    "* Spark, doc officielle : https://spark.apache.org/docs/latest/quick-start.html, et les tutos ciblés :\n",
    "    * https://spark.apache.org/docs/latest/api/python/getting_started/quickstart_connect.html\n",
    "    * ...\n",
    "    * et aussi celui-ci https://runawayhorse001.github.io/LearningApacheSpark/index.html qui est plus lisible que le PDF donné en tête, c'est hébergé sur PyPi.\n",
    "\n",
    "* Databricks (semble incontournable) : https://www.databricks.com/spark/getting-started-with-apache-spark\n",
    "\n",
    "In addition, Databricks includes:\n",
    "\n",
    "    Our award-winning Massive Open Online Course, “Introduction to Big Data with Apache Spark” which has enrolled over 76,000 participants to date!\n",
    "    Massive Open Online Courses (MOOCs), including Machine Learning with Apache Spark\n",
    "    Analysis Pipelines Samples in R and Scala\n",
    "\n",
    "Find all of our available courses here at https://academy.databricks.com\n",
    "\n",
    "C'est alléchant, mais il faut voir combien cela coûte.\n",
    "\n",
    "Try Databricks free\n",
    "\n",
    "Test-drive the full Databricks platform free for 14 days on your choice of AWS, Microsoft Azure or Google Cloud.\n",
    "\n",
    "* Et aussi https://www.coursera.org/lecture/big-data-integration-processing/getting-started-with-spark-zBKt2\n",
    "\n",
    "Mais je ne sais toujours pas ce qu'il faut payer pour suivre et obtenir une certification.\n",
    "\n",
    "Et un autre du même type : https://www.udemy.com/course/scala-and-spark-2-getting-started/\n",
    "\n",
    "Par où commencer ?\n",
    "\n",
    "Je pense que je vais commencer par celui-ci : https://towardsdatascience.com/beginners-guide-to-pyspark-bbe3b553b79f\n",
    "\n",
    "Pour chacun, un notebook séparé `gs_spark_<SHORT_NAME>.ipynb`\n"
   ]
  },
  {
   "attachments": {},
   "cell_type": "markdown",
   "metadata": {},
   "source": [
    "# Installer Scala\n",
    "\n",
    "1. https://www.scala-lang.org/download/\n",
    "2. https://docs.scala-lang.org/getting-started/index.html (Windows)\n",
    "3. https://github.com/coursier/coursier/releases/latest/download/cs-x86_64-pc-win32.zip\n",
    "\n",
    "Installation avec `coursier` facile et rapide.\n",
    "\n",
    "Prochaine itération (après un reboot) : https://docs.scala-lang.org/getting-started/index.html -> tester l'install et écrire et exécuter le 'Hello World', en console et sous Jupyter/VS Code."
   ]
  }
 ],
 "metadata": {
  "language_info": {
   "name": "python"
  },
  "orig_nbformat": 4
 },
 "nbformat": 4,
 "nbformat_minor": 2
}
