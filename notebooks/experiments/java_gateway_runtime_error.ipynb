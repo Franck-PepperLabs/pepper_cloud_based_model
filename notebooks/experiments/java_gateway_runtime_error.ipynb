{
 "cells": [
  {
   "attachments": {},
   "cell_type": "markdown",
   "metadata": {},
   "source": [
    "# **RuntimeError: Java gateway process exited**\n",
    "\n",
    "**RuntimeError**: Java gateway process exited before sending its port number when setting spark config."
   ]
  },
  {
   "attachments": {},
   "cell_type": "markdown",
   "metadata": {},
   "source": [
    "# Mise en évidence du problème\n",
    "\n",
    "L'exception se déclenche au moment d'instancier une session Spark, plus spécifiquement sur l'appel de `.getOrCreate()`."
   ]
  },
  {
   "attachments": {},
   "cell_type": "markdown",
   "metadata": {},
   "source": [
    "## Reproduction\n",
    "\n",
    "Le 13 mai, après avoir modifié la variable d'environnement `PYSPARK_SUBMIT_ARGS` pour la valeur en dur `--master local[*] pyspark-shell` plutôt que de l'effectuer programmatiquement, a réglé mon problème.\n",
    "\n",
    "C'est donc une affaire de chargement, il est un moment où pour changer, il est trop tard.\n",
    "\n",
    "Pas le temps pour le moment d'investiguer, mais la suite serait :\n",
    "1. modifier la variable d'environnement système pour la valeur `--master spark://172.28.176.216:7077 --conf spark.driver.host=172.28.176.1` (`SalviaDivinorum`)\n",
    "2. introduire la modification à la volée avec `os.environ['PYSPARK_SUBMIT_ARGS'] = \"--master local[*] pyspark-shell\"` et voir si cela reproduit l'erreur.\n",
    "3. voir ce qu'il se passe si la modification est effectuée au niveau du fichier `.env`"
   ]
  },
  {
   "cell_type": "code",
   "execution_count": 4,
   "metadata": {},
   "outputs": [],
   "source": [
    "from pyspark.sql import SparkSession\n",
    "spark = (\n",
    "    SparkSession\n",
    "    .builder\n",
    "    .appName('P8')\n",
    "    .master('local')\n",
    "    .config(\"spark.sql.parquet.writeLegacyFormat\", 'true')\n",
    "    .getOrCreate()\n",
    ")"
   ]
  },
  {
   "attachments": {},
   "cell_type": "markdown",
   "metadata": {},
   "source": [
    "## Ce qu'il s'en dit\n",
    "\n",
    "Quelques références sur le sujet : voir section `RuntimeError: Java gateway` dans `_references.ipynb`."
   ]
  },
  {
   "attachments": {},
   "cell_type": "markdown",
   "metadata": {},
   "source": [
    "## Diagnostic\n",
    "\n",
    "D'abord, les variables d'environnement"
   ]
  },
  {
   "cell_type": "code",
   "execution_count": 3,
   "metadata": {},
   "outputs": [
    {
     "name": "stdout",
     "output_type": "stream",
     "text": [
      "\u001b[3m\u001b[32m\n",
      "SPARK ENV\u001b[0m\u001b[0m\n",
      "PYSPARK_SUBMIT_ARGS: --master local[*] pyspark-shell\n",
      "SPARK_HOME: C:\\Program Files\\Spark\n",
      "\u001b[3m\u001b[32m\n",
      "JAVA ENV\u001b[0m\u001b[0m\n",
      "JAVA_HOME: C:\\Program Files\\Java\\jdk-17\n",
      "\u001b[3m\u001b[32m\n",
      "JAVA ENV\u001b[0m\u001b[0m\n",
      "JAVA_HOME: C:\\Program Files\\Java\\jdk-17\n",
      "\u001b[3m\u001b[32m\n",
      "VSCODE ENV\u001b[0m\u001b[0m\n",
      "VSCODE_AMD_ENTRYPOINT: vs/workbench/api/node/extensionHostProcess\n",
      "VSCODE_CODE_CACHE_PATH: C:\\Users\\franc\\AppData\\Roaming\\Code\\CachedData\\b3e4e68a0bc097f0ae7907b217c1119af9e03435\n",
      "VSCODE_CRASH_REPORTER_PROCESS_TYPE: extensionHost\n",
      "VSCODE_CWD: C:\\Users\\franc\\AppData\\Local\\Programs\\Microsoft VS Code\n",
      "VSCODE_HANDLES_UNCAUGHT_ERRORS: true\n",
      "VSCODE_IPC_HOOK: \\\\.\\pipe\\528ce89b3964f0be503a218713263ba8-1.78.2-main-sock\n",
      "VSCODE_L10N_BUNDLE_LOCATION: file:///c%3A/Users/franc/.vscode/extensions/ms-ceintl.vscode-language-pack-fr-1.78.2023051009/translations/extensions/vscode.json-language-features.i18n.json\n",
      "VSCODE_NLS_CONFIG: {\"locale\":\"fr\",\"osLocale\":\"fr-fr\",\"availableLanguages\":{\"*\":\"fr\"},\"_languagePackId\":\"464e33a418b005a7ef0102b15075ed48.fr\",\"_translationsConfigFile\":\"C:\\\\Users\\\\franc\\\\AppData\\\\Roaming\\\\Code\\\\clp\\\\464e33a418b005a7ef0102b15075ed48.fr\\\\tcf.json\",\"_cacheRoot\":\"C:\\\\Users\\\\franc\\\\AppData\\\\Roaming\\\\Code\\\\clp\\\\464e33a418b005a7ef0102b15075ed48.fr\",\"_resolvedLanguagePackCoreLocation\":\"C:\\\\Users\\\\franc\\\\AppData\\\\Roaming\\\\Code\\\\clp\\\\464e33a418b005a7ef0102b15075ed48.fr\\\\b3e4e68a0bc097f0ae7907b217c1119af9e03435\",\"_corruptedFile\":\"C:\\\\Users\\\\franc\\\\AppData\\\\Roaming\\\\Code\\\\clp\\\\464e33a418b005a7ef0102b15075ed48.fr\\\\corrupted.info\",\"_languagePackSupport\":true}\n",
      "VSCODE_PID: 9060\n"
     ]
    }
   ],
   "source": [
    "from pepper.utils import print_subsubtitle\n",
    "from pepper.env import show_env\n",
    "print_subsubtitle(\"SPARK ENV\")\n",
    "show_env(\".*SPARK.*\")\n",
    "print_subsubtitle(\"JAVA ENV\")\n",
    "show_env(\".*JAVA.*\")\n",
    "print_subsubtitle(\"JAVA ENV\")\n",
    "show_env(\".*JAVA.*\")\n",
    "print_subsubtitle(\"VSCODE ENV\")\n",
    "show_env(\".*VSCODE.*\")"
   ]
  },
  {
   "attachments": {},
   "cell_type": "markdown",
   "metadata": {},
   "source": [
    "# Modification de l'environnement"
   ]
  },
  {
   "cell_type": "code",
   "execution_count": null,
   "metadata": {},
   "outputs": [
    {
     "name": "stdout",
     "output_type": "stream",
     "text": [
      "PYSPARK_SUBMIT_ARGS: --master local[*] pyspark-shell\n",
      "SPARK_HOME: C:\\Program Files\\Spark\n"
     ]
    }
   ],
   "source": [
    "from fruits.spark_utils import set_master_local\n",
    "from pepper.env import show_env\n",
    "import os\n",
    "\n",
    "set_master_local()\n",
    "# Récupérer toutes les variables d'environnement\n",
    "env_vars = os.environ\n",
    "os.environ['PYSPARK_SUBMIT_ARGS'] = \"--master local[*] pyspark-shell\"\n",
    "show_env(\".*SPARK.*\")"
   ]
  }
 ],
 "metadata": {
  "kernelspec": {
   "display_name": "Python 3",
   "language": "python",
   "name": "python3"
  },
  "language_info": {
   "codemirror_mode": {
    "name": "ipython",
    "version": 3
   },
   "file_extension": ".py",
   "mimetype": "text/x-python",
   "name": "python",
   "nbconvert_exporter": "python",
   "pygments_lexer": "ipython3",
   "version": "3.11.1"
  },
  "orig_nbformat": 4
 },
 "nbformat": 4,
 "nbformat_minor": 2
}
