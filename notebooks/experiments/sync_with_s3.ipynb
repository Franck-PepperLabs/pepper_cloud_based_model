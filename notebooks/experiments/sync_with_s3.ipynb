{
 "cells": [
  {
   "attachments": {},
   "cell_type": "markdown",
   "metadata": {},
   "source": [
    "# **S3**\n"
   ]
  },
  {
   "attachments": {},
   "cell_type": "markdown",
   "metadata": {},
   "source": [
    "# Opérations de base\n",
    "\n",
    "https://boto3.amazonaws.com/v1/documentation/api/latest/index.html"
   ]
  },
  {
   "attachments": {},
   "cell_type": "markdown",
   "metadata": {},
   "source": [
    "To use Boto3, you must first import it and indicate which service or services you’re going to use:"
   ]
  },
  {
   "cell_type": "code",
   "execution_count": 2,
   "metadata": {},
   "outputs": [
    {
     "data": {
      "text/plain": [
       "s3.ServiceResource()"
      ]
     },
     "metadata": {},
     "output_type": "display_data"
    }
   ],
   "source": [
    "import boto3\n",
    "\n",
    "# Let's use Amazon S3\n",
    "s3 = boto3.resource(\"s3\")\n",
    "display(s3)"
   ]
  },
  {
   "attachments": {},
   "cell_type": "markdown",
   "metadata": {},
   "source": [
    "Now that you have an `s3` resource, you can make send requests to the service. The following code uses the `buckets` collection to print out all bucket names:"
   ]
  },
  {
   "cell_type": "code",
   "execution_count": 1,
   "metadata": {},
   "outputs": [
    {
     "name": "stdout",
     "output_type": "stream",
     "text": [
      "pepper-bucket\n",
      "pepper-labs-fruits\n"
     ]
    }
   ],
   "source": [
    "import boto3\n",
    "\n",
    "# Print out bucket names\n",
    "s3 = boto3.resource(\"s3\")\n",
    "for bucket in s3.buckets.all():\n",
    "    print(bucket.name)"
   ]
  },
  {
   "attachments": {},
   "cell_type": "markdown",
   "metadata": {},
   "source": [
    "You can also upload and download binary data. For example, the following uploads a new file to S3, assuming that the bucket `my-bucket` already exists:"
   ]
  },
  {
   "cell_type": "code",
   "execution_count": 4,
   "metadata": {},
   "outputs": [
    {
     "name": "stdout",
     "output_type": "stream",
     "text": [
      "C:\\Users\\franc\\Projects\\pepper_cloud_based_model\\data\\im\\sample_300\\Apple Braeburn\\91_100.jpg\n"
     ]
    }
   ],
   "source": [
    "import os\n",
    "from pepper.env import get_project_dir\n",
    "project_dir = get_project_dir()\n",
    "apple_1_path = os.path.join(project_dir, \"data\", \"im\", \"sample_300\", \"Apple Braeburn\", \"91_100.jpg\")\n",
    "print(apple_1_path)"
   ]
  },
  {
   "cell_type": "code",
   "execution_count": 5,
   "metadata": {},
   "outputs": [],
   "source": [
    "# Upload a new file\n",
    "apple_1 = open(apple_1_path, \"rb\")"
   ]
  },
  {
   "cell_type": "code",
   "execution_count": 6,
   "metadata": {},
   "outputs": [
    {
     "data": {
      "text/plain": [
       "s3.Object(bucket_name='pepper-labs-fruits', key='Apple Braeburn/91_100.jpg')"
      ]
     },
     "execution_count": 6,
     "metadata": {},
     "output_type": "execute_result"
    }
   ],
   "source": [
    "s3.Bucket(\"pepper-labs-fruits\").put_object(Key=\"Apple Braeburn/91_100.jpg\", Body=apple_1)"
   ]
  },
  {
   "cell_type": "code",
   "execution_count": null,
   "metadata": {},
   "outputs": [],
   "source": [
    "# Upload a new file\n",
    "data = open(\"test.jpg\", \"rb\")\n",
    "s3.Bucket(\"pepper-labs-fruits\").put_object(Key='test.jpg', Body=data)"
   ]
  },
  {
   "attachments": {},
   "cell_type": "markdown",
   "metadata": {},
   "source": [
    "# Exemples plus avancés\n",
    "\n",
    "https://boto3.amazonaws.com/v1/documentation/api/latest/guide/s3-examples.html"
   ]
  },
  {
   "attachments": {},
   "cell_type": "markdown",
   "metadata": {},
   "source": [
    "## [Uploading files](https://boto3.amazonaws.com/v1/documentation/api/latest/guide/s3-uploading-files.html)\n",
    "\n",
    "The AWS SDK for Python provides a pair of methods to upload a file to an S3 bucket.\n",
    "\n",
    "The `upload_file` method accepts a file name, a bucket name, and an object name. The method handles large files by splitting them into smaller chunks and uploading each chunk in parallel."
   ]
  },
  {
   "cell_type": "code",
   "execution_count": 10,
   "metadata": {},
   "outputs": [],
   "source": [
    "import logging\n",
    "import boto3\n",
    "from botocore.exceptions import ClientError\n",
    "import os\n",
    "\n",
    "\n",
    "def upload_file(file_name, bucket, object_name=None):\n",
    "    \"\"\"Upload a file to an S3 bucket\n",
    "\n",
    "    :param file_name: File to upload\n",
    "    :param bucket: Bucket to upload to\n",
    "    :param object_name: S3 object name. If not specified then file_name is used\n",
    "    :return: True if file was uploaded, else False\n",
    "    \"\"\"\n",
    "\n",
    "    # If S3 object_name was not specified, use file_name\n",
    "    if object_name is None:\n",
    "        object_name = os.path.basename(file_name)\n",
    "\n",
    "    # Upload the file\n",
    "    s3_client = boto3.client(\"s3\")\n",
    "    try:\n",
    "        #response =\n",
    "        s3_client.upload_file(file_name, bucket, object_name)\n",
    "    except ClientError as e:\n",
    "        logging.error(e)\n",
    "        return False\n",
    "    return True"
   ]
  },
  {
   "cell_type": "code",
   "execution_count": 8,
   "metadata": {},
   "outputs": [
    {
     "name": "stdout",
     "output_type": "stream",
     "text": [
      "C:\\Users\\franc\\Projects\\pepper_cloud_based_model\\data\\im\\sample_300\\Apple Braeburn\\r_326_100.jpg\n"
     ]
    }
   ],
   "source": [
    "import os\n",
    "from pepper.env import get_project_dir\n",
    "project_dir = get_project_dir()\n",
    "apple_2_path = os.path.join(project_dir, \"data\", \"im\", \"sample_300\", \"Apple Braeburn\", \"r_326_100.jpg\")\n",
    "print(apple_2_path)"
   ]
  },
  {
   "cell_type": "code",
   "execution_count": 11,
   "metadata": {},
   "outputs": [
    {
     "data": {
      "text/plain": [
       "True"
      ]
     },
     "execution_count": 11,
     "metadata": {},
     "output_type": "execute_result"
    }
   ],
   "source": [
    "upload_file(apple_2_path, \"pepper-labs-fruits\", \"Apple Braeburn/r_326_100.jpg\")"
   ]
  },
  {
   "attachments": {},
   "cell_type": "markdown",
   "metadata": {},
   "source": [
    "The `upload_fileobj` method accepts a readable file-like object. The file object must be opened in binary mode, not text mode."
   ]
  },
  {
   "cell_type": "code",
   "execution_count": null,
   "metadata": {},
   "outputs": [],
   "source": [
    "s3 = boto3.client('s3')\n",
    "with open(\"FILE_NAME\", \"rb\") as f:\n",
    "    s3.upload_fileobj(f, \"BUCKET_NAME\", \"OBJECT_NAME\")"
   ]
  },
  {
   "attachments": {},
   "cell_type": "markdown",
   "metadata": {},
   "source": [
    "The `upload_file` and `upload_fileobj` methods are provided by the S3 `Client`, `Bucket`, and `Object` classes. The method functionality provided by each class is identical. No benefits are gained by calling one class’s method over another’s. Use whichever class is most convenient."
   ]
  },
  {
   "attachments": {},
   "cell_type": "markdown",
   "metadata": {},
   "source": [
    "### The ExtraArgs parameter\n",
    "\n",
    "Both `upload_file` and `upload_fileobj` accept an optional `ExtraArgs` parameter that can be used for various purposes. The list of valid `ExtraArgs` settings is specified in the `ALLOWED_UPLOAD_ARGS` attribute of the `S3Transfer` object at [`boto3.s3.transfer.S3Transfer.ALLOWED_UPLOAD_ARGS`](https://boto3.amazonaws.com/v1/documentation/api/latest/reference/customizations/s3.html#boto3.s3.transfer.S3Transfer.ALLOWED_UPLOAD_ARGS).\n",
    "\n",
    "The following `ExtraArgs` setting specifies metadata to attach to the S3 object.\n",
    "\n",
    "```python\n",
    "s3.upload_file(\n",
    "    'FILE_NAME', 'BUCKET_NAME', 'OBJECT_NAME',\n",
    "    ExtraArgs={'Metadata': {'mykey': 'myvalue'}}\n",
    ")\n",
    "```\n",
    "\n",
    "The following `ExtraArgs` setting assigns the canned ACL (access control list) value ‘public-read’ to the S3 object.\n",
    "\n",
    "```python\n",
    "s3.upload_file(\n",
    "    'FILE_NAME', 'BUCKET_NAME', 'OBJECT_NAME',\n",
    "    ExtraArgs={'ACL': 'public-read'}\n",
    ")\n",
    "```\n",
    "\n",
    "The `ExtraArgs` parameter can also be used to set custom or multiple ACLs.\n",
    "\n",
    "```python\n",
    "s3.upload_file(\n",
    "    'FILE_NAME', 'BUCKET_NAME', 'OBJECT_NAME',\n",
    "    ExtraArgs={\n",
    "        'GrantRead': 'uri=\"http://acs.amazonaws.com/groups/global/AllUsers\"',\n",
    "        'GrantFullControl': 'id=\"01234567890abcdefg\"',\n",
    "    }\n",
    ")\n",
    "```"
   ]
  },
  {
   "attachments": {},
   "cell_type": "markdown",
   "metadata": {},
   "source": [
    "### The Callback parameter\n",
    "\n",
    "Both `upload_file` and `upload_fileobj` accept an optional `Callback` parameter. The parameter references a class that the Python SDK invokes intermittently during the transfer operation.\n",
    "\n",
    "Invoking a Python class executes the class’s `__call__` method. For each invocation, the class is passed the number of bytes transferred up to that point. This information can be used to implement a progress monitor.\n",
    "\n",
    "The following `Callback` setting instructs the Python SDK to create an instance of the ProgressPercentage class. During the upload, the instance’s `__call__` method will be invoked intermittently.\n",
    "\n",
    "```python\n",
    "s3.upload_file(\n",
    "    'FILE_NAME', 'BUCKET_NAME', 'OBJECT_NAME',\n",
    "    Callback=ProgressPercentage('FILE_NAME')\n",
    ")\n",
    "```"
   ]
  },
  {
   "attachments": {},
   "cell_type": "markdown",
   "metadata": {},
   "source": [
    "An example implementation of the `ProcessPercentage` class is shown below."
   ]
  },
  {
   "cell_type": "code",
   "execution_count": 12,
   "metadata": {},
   "outputs": [],
   "source": [
    "import os\n",
    "import sys\n",
    "import threading\n",
    "\n",
    "class ProgressPercentage(object):\n",
    "\n",
    "    def __init__(self, filename):\n",
    "        self._filename = filename\n",
    "        self._size = float(os.path.getsize(filename))\n",
    "        self._seen_so_far = 0\n",
    "        self._lock = threading.Lock()\n",
    "\n",
    "    def __call__(self, bytes_amount):\n",
    "        # To simplify, assume this is hooked up to a single filename\n",
    "        with self._lock:\n",
    "            self._seen_so_far += bytes_amount\n",
    "            percentage = (self._seen_so_far / self._size) * 100\n",
    "            sys.stdout.write(\n",
    "                \"\\r%s  %s / %s  (%.2f%%)\" % (\n",
    "                    self._filename, self._seen_so_far, self._size,\n",
    "                    percentage))\n",
    "            sys.stdout.flush()"
   ]
  },
  {
   "cell_type": "code",
   "execution_count": 18,
   "metadata": {},
   "outputs": [
    {
     "name": "stdout",
     "output_type": "stream",
     "text": [
      "bucket_name: pepper-labs-fruits\n",
      "object_name: Apple Golden 1/63_100.jpg\n",
      "file_path: C:\\Users\\franc\\Projects\\pepper_cloud_based_model\\data\\im\\sample_300\\Apple Golden 1\\63_100.jpg\n",
      "C:\\Users\\franc\\Projects\\pepper_cloud_based_model\\data\\im\\sample_300\\Apple Golden 1\\63_100.jpg  5843 / 5843.0  (100.00%)"
     ]
    }
   ],
   "source": [
    "import os\n",
    "from pepper.env import get_project_dir\n",
    "project_dir = get_project_dir()\n",
    "sample_300_dir = os.path.join(project_dir, \"data\", \"im\", \"sample_300\")\n",
    "bucket_name = \"pepper-labs-fruits\"\n",
    "object_class = \"Apple Golden 1\"\n",
    "object_id = \"63_100.jpg\"\n",
    "object_name = f\"{object_class}/{object_id}\"\n",
    "file_path = os.path.join(sample_300_dir, object_class, object_id)\n",
    "\n",
    "print(f\"bucket_name: {bucket_name}\")\n",
    "print(f\"object_name: {object_name}\")\n",
    "print(f\"file_path: {file_path}\")\n",
    "\n",
    "s3 = boto3.client(\"s3\")\n",
    "s3.upload_file(\n",
    "    file_path, bucket_name, object_name,\n",
    "    Callback=ProgressPercentage(file_path)\n",
    ")"
   ]
  },
  {
   "attachments": {},
   "cell_type": "markdown",
   "metadata": {},
   "source": [
    "# [Downloading files](https://boto3.amazonaws.com/v1/documentation/api/latest/guide/s3-example-download-file.html)\n",
    "\n",
    "The methods provided by the AWS SDK for Python to download files are similar to those provided to upload files.\n",
    "\n",
    "The `download_file` method accepts the names of the bucket and object to download and the filename to save the file to.\n",
    "\n",
    "```python\n",
    "import boto3\n",
    "\n",
    "s3 = boto3.client('s3')\n",
    "s3.download_file('BUCKET_NAME', 'OBJECT_NAME', 'FILE_NAME')\n",
    "```"
   ]
  },
  {
   "cell_type": "code",
   "execution_count": 23,
   "metadata": {},
   "outputs": [
    {
     "name": "stdout",
     "output_type": "stream",
     "text": [
      "C:\\Users\\franc\\Projects\\pepper_cloud_based_model\\tmp\\Apple_Golden_1_63_100.jpg\n"
     ]
    }
   ],
   "source": [
    "s3 = boto3.client(\"s3\")\n",
    "dl_file_path = os.path.join(\n",
    "    project_dir, \"tmp\",\n",
    "    object_name.replace(\"/\", \"_\").replace(\" \", \"_\")\n",
    ")\n",
    "print(dl_file_path)\n",
    "s3.download_file(bucket_name, object_name, dl_file_path)"
   ]
  },
  {
   "attachments": {},
   "cell_type": "markdown",
   "metadata": {},
   "source": [
    "The `download_fileobj` method accepts a writeable file-like object. The file object must be opened in binary mode, not text mode.\n",
    "\n",
    "```python\n",
    "s3 = boto3.client('s3')\n",
    "with open('FILE_NAME', 'wb') as f:\n",
    "    s3.download_fileobj('BUCKET_NAME', 'OBJECT_NAME', f)\n",
    "```\n",
    "\n",
    "Like their upload cousins, the download methods are provided by the S3 `Client`, `Bucket`, and `Object` classes, and each class provides identical functionality. Use whichever class is convenient.\n",
    "\n",
    "Also like the upload methods, the download methods support the optional `ExtraArgs` and `Callback` parameters.\n",
    "\n",
    "The list of valid `ExtraArgs` settings for the download methods is specified in the `ALLOWED_DOWNLOAD_ARGS` attribute of the `S3Transfer` object at [`boto3.s3.transfer.S3Transfer.ALLOWED_DOWNLOAD_ARGS`](https://boto3.amazonaws.com/v1/documentation/api/latest/reference/customizations/s3.html#boto3.s3.transfer.S3Transfer.ALLOWED_DOWNLOAD_ARGS).\n",
    "\n",
    "The download method’s `Callback` parameter is used for the same purpose as the upload method’s. The upload and download methods can both invoke the same Callback class."
   ]
  },
  {
   "attachments": {},
   "cell_type": "markdown",
   "metadata": {},
   "source": [
    "# [File transfer configuration](https://boto3.amazonaws.com/v1/documentation/api/latest/guide/s3.html#file-transfer-configuration)\n",
    "\n",
    "* Multipart transfers\n",
    "* Concurrent transfer operations\n",
    "* Threads"
   ]
  },
  {
   "attachments": {},
   "cell_type": "markdown",
   "metadata": {},
   "source": [
    "# [Presigned URLs](https://boto3.amazonaws.com/v1/documentation/api/latest/guide/s3-presigned-urls.html#presigned-urls)"
   ]
  },
  {
   "attachments": {},
   "cell_type": "markdown",
   "metadata": {},
   "source": [
    "# [Bucket policies](https://boto3.amazonaws.com/v1/documentation/api/latest/guide/s3-example-bucket-policies.html)"
   ]
  },
  {
   "attachments": {},
   "cell_type": "markdown",
   "metadata": {},
   "source": [
    "# [Access permissions](https://boto3.amazonaws.com/v1/documentation/api/latest/guide/s3-example-access-permissions.html)"
   ]
  },
  {
   "attachments": {},
   "cell_type": "markdown",
   "metadata": {},
   "source": [
    "# [Using an Amazon S3 bucket as a static web host](https://boto3.amazonaws.com/v1/documentation/api/latest/guide/s3-example-static-web-host.html)"
   ]
  },
  {
   "attachments": {},
   "cell_type": "markdown",
   "metadata": {},
   "source": [
    "# [Bucket CORS configuration](https://boto3.amazonaws.com/v1/documentation/api/latest/guide/s3-example-configuring-buckets.html)"
   ]
  },
  {
   "attachments": {},
   "cell_type": "markdown",
   "metadata": {},
   "source": [
    "# [AWS PrivateLink for Amazon S3](https://boto3.amazonaws.com/v1/documentation/api/latest/guide/s3-example-privatelink.html)"
   ]
  },
  {
   "attachments": {},
   "cell_type": "markdown",
   "metadata": {},
   "source": [
    "# S3 : de la v1 à la v2"
   ]
  },
  {
   "attachments": {},
   "cell_type": "markdown",
   "metadata": {},
   "source": [
    "```python\n",
    "if is_s3_path(path):\n",
    "    s3 = boto3.resource(\"s3\")\n",
    "    bucket, key = path[5:].split(\"/\", 1)\n",
    "    try:\n",
    "        obj = s3.Object(bucket, key)\n",
    "        obj.put(Body=contents.encode(\"utf-8\"))\n",
    "    except botocore.exceptions.ClientError as e:\n",
    "        raise RuntimeError(f\"Failed to write file to S3: {e}\") from e\n",
    "```"
   ]
  },
  {
   "attachments": {},
   "cell_type": "markdown",
   "metadata": {},
   "source": [
    "Récupérer la taille d'une image sur S3 :"
   ]
  },
  {
   "cell_type": "code",
   "execution_count": 1,
   "metadata": {},
   "outputs": [
    {
     "name": "stdout",
     "output_type": "stream",
     "text": [
      "5843\n"
     ]
    }
   ],
   "source": [
    "from fruits.storage_utils import get_s3_object_size\n",
    "import os\n",
    "from pepper.env import get_project_dir\n",
    "\n",
    "project_dir = get_project_dir()\n",
    "sample_300_dir = os.path.join(project_dir, \"data\", \"im\", \"sample_300\")\n",
    "bucket_name = \"pepper-labs-fruits\"\n",
    "object_class = \"Apple Golden 1\"\n",
    "object_id = \"63_100.jpg\"\n",
    "object_name = f\"{object_class}/{object_id}\"\n",
    "file_path = os.path.join(sample_300_dir, object_class, object_id)\n",
    "print(get_s3_object_size(bucket_name, object_name))"
   ]
  },
  {
   "attachments": {},
   "cell_type": "markdown",
   "metadata": {},
   "source": [
    "Téléverser une image sur S3 :"
   ]
  },
  {
   "cell_type": "code",
   "execution_count": 2,
   "metadata": {},
   "outputs": [
    {
     "name": "stdout",
     "output_type": "stream",
     "text": [
      "Avocado ripe/181_100  4026 / 4026.0  (100.00%)"
     ]
    },
    {
     "data": {
      "text/plain": [
       "True"
      ]
     },
     "execution_count": 2,
     "metadata": {},
     "output_type": "execute_result"
    }
   ],
   "source": [
    "from fruits.storage_utils import upload_image_object\n",
    "image_class = \"Avocado ripe\"\n",
    "image_id = \"181_100\"\n",
    "upload_image_object(sample_300_dir, image_class, image_id)"
   ]
  },
  {
   "attachments": {},
   "cell_type": "markdown",
   "metadata": {},
   "source": [
    "Lister les sous-dossiers partant d'un chemin racine.\n",
    "\n",
    "En local :"
   ]
  },
  {
   "cell_type": "code",
   "execution_count": 1,
   "metadata": {},
   "outputs": [
    {
     "name": "stdout",
     "output_type": "stream",
     "text": [
      "['Apple Braeburn', 'Apple Crimson Snow', 'Apple Golden 1', 'Apple Golden 2', 'Apple Golden 3', 'Apple Granny Smith', 'Apple Pink Lady', 'Apple Red 1', 'Apple Red 2', 'Apple Red 3', 'Apple Red Delicious', 'Apple Red Yellow 1', 'Apple Red Yellow 2', 'Apricot', 'Avocado', 'Avocado ripe', 'Banana', 'Banana Lady Finger', 'Banana Red', 'Beetroot', 'Blueberry', 'Cactus fruit', 'Cantaloupe 1', 'Cantaloupe 2', 'Carambula', 'Cauliflower', 'Cherry 1', 'Cherry 2', 'Cherry Rainier', 'Cherry Wax Black', 'Cherry Wax Red', 'Cherry Wax Yellow', 'Chestnut', 'Clementine', 'Cocos', 'Corn', 'Corn Husk', 'Cucumber Ripe', 'Cucumber Ripe 2', 'Dates', 'Eggplant', 'Fig', 'Ginger Root', 'Granadilla', 'Grape Blue', 'Grape Pink', 'Grape White', 'Grape White 2', 'Grape White 3', 'Grape White 4', 'Grapefruit Pink', 'Grapefruit White', 'Guava', 'Hazelnut', 'Huckleberry', 'Kaki', 'Kiwi', 'Kohlrabi', 'Kumquats', 'Lemon', 'Lemon Meyer', 'Limes', 'Lychee', 'Mandarine', 'Mango', 'Mango Red', 'Mangostan', 'Maracuja', 'Melon Piel de Sapo', 'Mulberry', 'Nectarine', 'Nectarine Flat', 'Nut Forest', 'Nut Pecan', 'Onion Red', 'Onion Red Peeled', 'Onion White', 'Orange', 'Papaya', 'Passion Fruit', 'Peach', 'Peach 2', 'Peach Flat', 'Pear', 'Pear 2', 'Pear Abate', 'Pear Forelle', 'Pear Kaiser', 'Pear Monster', 'Pear Red', 'Pear Stone', 'Pear Williams', 'Pepino', 'Pepper Green', 'Pepper Orange', 'Pepper Red', 'Pepper Yellow', 'Physalis', 'Physalis with Husk', 'Pineapple', 'Pineapple Mini', 'Pitahaya Red', 'Plum', 'Plum 2', 'Plum 3', 'Pomegranate', 'Pomelo Sweetie', 'Potato Red', 'Potato Red Washed', 'Potato Sweet', 'Potato White', 'Quince', 'Rambutan', 'Raspberry', 'Redcurrant', 'Salak', 'Strawberry', 'Strawberry Wedge', 'Tamarillo', 'Tangelo', 'Tomato 1', 'Tomato 2', 'Tomato 3', 'Tomato 4', 'Tomato Cherry Red', 'Tomato Heart', 'Tomato Maroon', 'Tomato not Ripened', 'Tomato Yellow', 'Walnut', 'Watermelon']\n"
     ]
    }
   ],
   "source": [
    "import os\n",
    "from pepper.env import get_project_dir\n",
    "from fruits.storage_utils import list_subdirs\n",
    "\n",
    "project_dir = get_project_dir()\n",
    "sample_300_dir = os.path.join(project_dir, \"data\", \"im\", \"sample_300\")\n",
    "print(list_subdirs(sample_300_dir))"
   ]
  },
  {
   "attachments": {},
   "cell_type": "markdown",
   "metadata": {},
   "source": [
    "Sur S3 :"
   ]
  },
  {
   "cell_type": "code",
   "execution_count": 2,
   "metadata": {},
   "outputs": [
    {
     "name": "stdout",
     "output_type": "stream",
     "text": [
      "['Apple Braeburn', 'Apple Golden 1', 'Avocado ripe', 'Avocado']\n"
     ]
    }
   ],
   "source": [
    "from fruits.storage_utils import list_s3_subdirs\n",
    "bucket_name = \"pepper-labs-fruits\"\n",
    "print(list_s3_subdirs(bucket_name, \"\"))"
   ]
  },
  {
   "attachments": {},
   "cell_type": "markdown",
   "metadata": {},
   "source": [
    "Compter le nombre de fichiers par dossier :\n",
    "\n",
    "En local :"
   ]
  },
  {
   "cell_type": "code",
   "execution_count": 1,
   "metadata": {},
   "outputs": [
    {
     "name": "stdout",
     "output_type": "stream",
     "text": [
      "({'Apple Braeburn': 2, 'Apple Crimson Snow': 3, 'Apple Golden 1': 2, 'Apple Golden 2': 2, 'Apple Golden 3': 2, 'Apple Granny Smith': 2, 'Apple Pink Lady': 2, 'Apple Red 1': 2, 'Apple Red 2': 2, 'Apple Red 3': 2, 'Apple Red Delicious': 2, 'Apple Red Yellow 1': 3, 'Apple Red Yellow 2': 3, 'Apricot': 2, 'Avocado': 2, 'Avocado ripe': 2, 'Banana': 2, 'Banana Lady Finger': 2, 'Banana Red': 2, 'Beetroot': 2, 'Blueberry': 2, 'Cactus fruit': 2, 'Cantaloupe 1': 2, 'Cantaloupe 2': 2, 'Carambula': 2, 'Cauliflower': 3, 'Cherry 1': 2, 'Cherry 2': 3, 'Cherry Rainier': 3, 'Cherry Wax Black': 3, 'Cherry Wax Red': 2, 'Cherry Wax Yellow': 2, 'Chestnut': 2, 'Clementine': 2, 'Cocos': 2, 'Corn': 3, 'Corn Husk': 3, 'Cucumber Ripe': 3, 'Cucumber Ripe 2': 3, 'Dates': 2, 'Eggplant': 2, 'Fig': 4, 'Ginger Root': 1, 'Granadilla': 2, 'Grape Blue': 4, 'Grape Pink': 2, 'Grape White': 2, 'Grape White 2': 2, 'Grape White 3': 2, 'Grape White 4': 2, 'Grapefruit Pink': 2, 'Grapefruit White': 2, 'Guava': 2, 'Hazelnut': 2, 'Huckleberry': 3, 'Kaki': 2, 'Kiwi': 2, 'Kohlrabi': 2, 'Kumquats': 2, 'Lemon': 2, 'Lemon Meyer': 2, 'Limes': 2, 'Lychee': 2, 'Mandarine': 2, 'Mango': 2, 'Mango Red': 2, 'Mangostan': 1, 'Maracuja': 2, 'Melon Piel de Sapo': 3, 'Mulberry': 2, 'Nectarine': 3, 'Nectarine Flat': 2, 'Nut Forest': 3, 'Nut Pecan': 2, 'Onion Red': 3, 'Onion Red Peeled': 2, 'Onion White': 2, 'Orange': 2, 'Papaya': 3, 'Passion Fruit': 2, 'Peach': 2, 'Peach 2': 3, 'Peach Flat': 2, 'Pear': 3, 'Pear 2': 3, 'Pear Abate': 2, 'Pear Forelle': 3, 'Pear Kaiser': 1, 'Pear Monster': 2, 'Pear Red': 3, 'Pear Stone': 4, 'Pear Williams': 2, 'Pepino': 2, 'Pepper Green': 2, 'Pepper Orange': 3, 'Pepper Red': 3, 'Pepper Yellow': 3, 'Physalis': 3, 'Physalis with Husk': 2, 'Pineapple': 2, 'Pineapple Mini': 2, 'Pitahaya Red': 2, 'Plum': 2, 'Plum 2': 2, 'Plum 3': 4, 'Pomegranate': 2, 'Pomelo Sweetie': 2, 'Potato Red': 2, 'Potato Red Washed': 2, 'Potato Sweet': 2, 'Potato White': 2, 'Quince': 3, 'Rambutan': 2, 'Raspberry': 2, 'Redcurrant': 2, 'Salak': 2, 'Strawberry': 2, 'Strawberry Wedge': 3, 'Tamarillo': 2, 'Tangelo': 2, 'Tomato 1': 3, 'Tomato 2': 3, 'Tomato 3': 3, 'Tomato 4': 2, 'Tomato Cherry Red': 2, 'Tomato Heart': 3, 'Tomato Maroon': 2, 'Tomato not Ripened': 2, 'Tomato Yellow': 2, 'Walnut': 3, 'Watermelon': 2}, 300)\n"
     ]
    }
   ],
   "source": [
    "import os\n",
    "from pepper.env import get_project_dir\n",
    "from fruits.storage_utils import count_files\n",
    "\n",
    "project_dir = get_project_dir()\n",
    "sample_300_dir = os.path.join(project_dir, \"data\", \"im\", \"sample_300\")\n",
    "print(count_files(sample_300_dir))"
   ]
  },
  {
   "attachments": {},
   "cell_type": "markdown",
   "metadata": {},
   "source": [
    "Sur S3 :"
   ]
  },
  {
   "cell_type": "code",
   "execution_count": 2,
   "metadata": {},
   "outputs": [
    {
     "name": "stdout",
     "output_type": "stream",
     "text": [
      "({'Apple Braeburn': 2, 'Apple Golden 1': 1, 'Avocado ripe': 1, 'Avocado': 2}, 6)\n"
     ]
    }
   ],
   "source": [
    "from fruits.storage_utils import count_s3_objects\n",
    "bucket_name = \"pepper-labs-fruits\"\n",
    "print(count_s3_objects(bucket_name))"
   ]
  },
  {
   "attachments": {},
   "cell_type": "markdown",
   "metadata": {},
   "source": [
    "Test de non régression de la 3ème version de sample_images, version locale :"
   ]
  },
  {
   "cell_type": "code",
   "execution_count": 1,
   "metadata": {},
   "outputs": [
    {
     "data": {
      "text/plain": [
       "300"
      ]
     },
     "metadata": {},
     "output_type": "display_data"
    }
   ],
   "source": [
    "import os\n",
    "from pepper.env import get_project_dir\n",
    "from pepper.utils import create_if_not_exist\n",
    "from fruits.storage_utils import sample_images\n",
    "project_dir = get_project_dir()\n",
    "raw_src_im_dir = os.path.join(project_dir, r\"dataset\\fruits-360_dataset\\Test\")\n",
    "sample_300_im_dir = os.path.join(project_dir, r\"data\\im\\sample_300\")\n",
    "create_if_not_exist(sample_300_im_dir)\n",
    "target_dist = sample_images(raw_src_im_dir, sample_300_im_dir, 300)\n",
    "display(sum(target_dist.values()))"
   ]
  },
  {
   "attachments": {},
   "cell_type": "markdown",
   "metadata": {},
   "source": [
    "Test de copie massive vers S3 :"
   ]
  },
  {
   "cell_type": "code",
   "execution_count": 2,
   "metadata": {},
   "outputs": [],
   "source": [
    "import os\n",
    "from pepper.env import get_project_dir\n",
    "from pepper.utils import create_if_not_exist\n",
    "from fruits.storage_utils import (\n",
    "    list_subdirs,\n",
    "    count_files,\n",
    "    compute_target_dist,\n",
    "    copy_files_to_s3\n",
    ")\n",
    "n_samples = 10\n",
    "project_dir = get_project_dir()\n",
    "target_bucket = \"pepper-labs-fruits\"\n",
    "root_path = os.path.join(project_dir, r\"dataset\\fruits-360_dataset\\Test\")\n",
    "# Get the list of subdirectories\n",
    "subdirs = list_subdirs(root_path)\n",
    "# Count the number of images in each folder\n",
    "image_counts, n_total = count_files(root_path, subdirs)\n",
    "# Calculate the number of images to sample from each folder\n",
    "target_dist = compute_target_dist(subdirs, image_counts, n_total, n_samples)\n",
    "# Copy to S3\n",
    "copy_files_to_s3(root_path, target_bucket, subdirs, target_dist)"
   ]
  },
  {
   "attachments": {},
   "cell_type": "markdown",
   "metadata": {},
   "source": [
    "Nettoyage sécurisé avec une double confirmation :\n",
    "\n",
    "En local :"
   ]
  },
  {
   "cell_type": "code",
   "execution_count": 3,
   "metadata": {},
   "outputs": [
    {
     "data": {
      "text/plain": [
       "304"
      ]
     },
     "metadata": {},
     "output_type": "display_data"
    },
    {
     "data": {
      "text/plain": [
       "131"
      ]
     },
     "metadata": {},
     "output_type": "display_data"
    },
    {
     "name": "stdout",
     "output_type": "stream",
     "text": [
      "The directory C:\\Users\\franc\\Projects\\pepper_cloud_based_model\\data\\im\\sample_300\n",
      "contains 304 files and 131 directories.\n",
      "The directory C:\\Users\\franc\\Projects\\pepper_cloud_based_model\\data\\im\\sample_300 has been successfully deleted.\n"
     ]
    }
   ],
   "source": [
    "import os\n",
    "from pepper.env import get_project_dir\n",
    "from fruits.storage_utils import count_files, clean_directory\n",
    "project_dir = get_project_dir()\n",
    "root_path = os.path.join(project_dir, \"data\", \"im\", \"sample_300\")\n",
    "# subdirs = list_subdirs(root_path)\n",
    "image_counts, n_total = count_files(root_path)\n",
    "display(n_total)\n",
    "display(len(image_counts))\n",
    "clean_directory(root_path)"
   ]
  },
  {
   "attachments": {},
   "cell_type": "markdown",
   "metadata": {},
   "source": [
    "Sur S3 :"
   ]
  },
  {
   "cell_type": "code",
   "execution_count": 1,
   "metadata": {},
   "outputs": [
    {
     "data": {
      "text/plain": [
       "({'Apple Braeburn': 2, 'Apple Golden 1': 1, 'Avocado ripe': 1, 'Avocado': 2},\n",
       " 6)"
      ]
     },
     "execution_count": 1,
     "metadata": {},
     "output_type": "execute_result"
    }
   ],
   "source": [
    "from fruits.storage_utils import count_s3_objects\n",
    "target_bucket = \"pepper-labs-fruits\"\n",
    "count_s3_objects(target_bucket, \"A\")"
   ]
  },
  {
   "attachments": {},
   "cell_type": "markdown",
   "metadata": {},
   "source": [
    "Suppression d'un \"dossier\", mais en fait d'une racine représentée par un préfixe."
   ]
  },
  {
   "cell_type": "code",
   "execution_count": 2,
   "metadata": {},
   "outputs": [
    {
     "name": "stdout",
     "output_type": "stream",
     "text": [
      "The S3 directory s3://pepper-labs-fruits/Apple Golden 1\n",
      "contains 1 files and 1 directories.\n",
      "The S3 directory s3://pepper-labs-fruits/Apple Golden 1 has been successfully deleted.\n"
     ]
    }
   ],
   "source": [
    "from fruits.storage_utils import clean_s3_directory\n",
    "\n",
    "target_bucket = \"pepper-labs-fruits\"\n",
    "clean_s3_directory(target_bucket, \"Apple Golden 1\")"
   ]
  },
  {
   "attachments": {},
   "cell_type": "markdown",
   "metadata": {},
   "source": [
    "Suppression de toutes les ressources dont le chemin commence par A (donc dans les dossiers qui commencent pas A)"
   ]
  },
  {
   "cell_type": "code",
   "execution_count": 3,
   "metadata": {},
   "outputs": [
    {
     "name": "stdout",
     "output_type": "stream",
     "text": [
      "The S3 directory s3://pepper-labs-fruits/A\n",
      "contains 5 files and 3 directories.\n",
      "The S3 directory s3://pepper-labs-fruits/A has been successfully deleted.\n"
     ]
    }
   ],
   "source": [
    "from fruits.storage_utils import clean_s3_directory\n",
    "\n",
    "target_bucket = \"pepper-labs-fruits\"\n",
    "clean_s3_directory(target_bucket, \"A\")"
   ]
  },
  {
   "attachments": {},
   "cell_type": "markdown",
   "metadata": {},
   "source": [
    "Reset complet du bucket :"
   ]
  },
  {
   "cell_type": "code",
   "execution_count": 3,
   "metadata": {},
   "outputs": [
    {
     "name": "stdout",
     "output_type": "stream",
     "text": [
      "The S3 directory s3://pepper-labs-fruits/\n",
      "contains 378 files and 131 directories.\n",
      "The S3 directory s3://pepper-labs-fruits/ has been successfully deleted.\n"
     ]
    }
   ],
   "source": [
    "from fruits.storage_utils import clean_s3_directory\n",
    "\n",
    "target_bucket = \"pepper-labs-fruits\"\n",
    "clean_s3_directory(target_bucket, \"\")"
   ]
  },
  {
   "attachments": {},
   "cell_type": "markdown",
   "metadata": {},
   "source": [
    "Sampling directement vers S3"
   ]
  },
  {
   "cell_type": "code",
   "execution_count": 2,
   "metadata": {},
   "outputs": [
    {
     "data": {
      "text/plain": [
       "{'Apple Braeburn': 2,\n",
       " 'Apple Crimson Snow': 2,\n",
       " 'Apple Golden 1': 2,\n",
       " 'Apple Golden 2': 2,\n",
       " 'Apple Golden 3': 2,\n",
       " 'Apple Granny Smith': 2,\n",
       " 'Apple Pink Lady': 2,\n",
       " 'Apple Red 1': 2,\n",
       " 'Apple Red 2': 2,\n",
       " 'Apple Red 3': 2,\n",
       " 'Apple Red Delicious': 2,\n",
       " 'Apple Red Yellow 1': 2,\n",
       " 'Apple Red Yellow 2': 3,\n",
       " 'Apricot': 2,\n",
       " 'Avocado': 2,\n",
       " 'Avocado ripe': 2,\n",
       " 'Banana': 2,\n",
       " 'Banana Lady Finger': 2,\n",
       " 'Banana Red': 2,\n",
       " 'Beetroot': 2,\n",
       " 'Blueberry': 2,\n",
       " 'Cactus fruit': 2,\n",
       " 'Cantaloupe 1': 2,\n",
       " 'Cantaloupe 2': 2,\n",
       " 'Carambula': 3,\n",
       " 'Cauliflower': 3,\n",
       " 'Cherry 1': 2,\n",
       " 'Cherry 2': 4,\n",
       " 'Cherry Rainier': 3,\n",
       " 'Cherry Wax Black': 2,\n",
       " 'Cherry Wax Red': 2,\n",
       " 'Cherry Wax Yellow': 2,\n",
       " 'Chestnut': 2,\n",
       " 'Clementine': 2,\n",
       " 'Cocos': 2,\n",
       " 'Corn': 2,\n",
       " 'Corn Husk': 2,\n",
       " 'Cucumber Ripe': 2,\n",
       " 'Cucumber Ripe 2': 2,\n",
       " 'Dates': 3,\n",
       " 'Eggplant': 2,\n",
       " 'Fig': 3,\n",
       " 'Ginger Root': 1,\n",
       " 'Granadilla': 2,\n",
       " 'Grape Blue': 5,\n",
       " 'Grape Pink': 2,\n",
       " 'Grape White': 2,\n",
       " 'Grape White 2': 2,\n",
       " 'Grape White 3': 2,\n",
       " 'Grape White 4': 2,\n",
       " 'Grapefruit Pink': 2,\n",
       " 'Grapefruit White': 2,\n",
       " 'Guava': 3,\n",
       " 'Hazelnut': 2,\n",
       " 'Huckleberry': 3,\n",
       " 'Kaki': 2,\n",
       " 'Kiwi': 3,\n",
       " 'Kohlrabi': 2,\n",
       " 'Kumquats': 2,\n",
       " 'Lemon': 2,\n",
       " 'Lemon Meyer': 2,\n",
       " 'Limes': 3,\n",
       " 'Lychee': 3,\n",
       " 'Mandarine': 2,\n",
       " 'Mango': 2,\n",
       " 'Mango Red': 2,\n",
       " 'Mangostan': 1,\n",
       " 'Maracuja': 2,\n",
       " 'Melon Piel de Sapo': 3,\n",
       " 'Mulberry': 2,\n",
       " 'Nectarine': 2,\n",
       " 'Nectarine Flat': 2,\n",
       " 'Nut Forest': 3,\n",
       " 'Nut Pecan': 3,\n",
       " 'Onion Red': 3,\n",
       " 'Onion Red Peeled': 2,\n",
       " 'Onion White': 2,\n",
       " 'Orange': 2,\n",
       " 'Papaya': 2,\n",
       " 'Passion Fruit': 2,\n",
       " 'Peach': 2,\n",
       " 'Peach 2': 3,\n",
       " 'Peach Flat': 2,\n",
       " 'Pear': 2,\n",
       " 'Pear 2': 3,\n",
       " 'Pear Abate': 2,\n",
       " 'Pear Forelle': 3,\n",
       " 'Pear Kaiser': 1,\n",
       " 'Pear Monster': 2,\n",
       " 'Pear Red': 4,\n",
       " 'Pear Stone': 3,\n",
       " 'Pear Williams': 2,\n",
       " 'Pepino': 2,\n",
       " 'Pepper Green': 2,\n",
       " 'Pepper Orange': 4,\n",
       " 'Pepper Red': 3,\n",
       " 'Pepper Yellow': 3,\n",
       " 'Physalis': 2,\n",
       " 'Physalis with Husk': 2,\n",
       " 'Pineapple': 2,\n",
       " 'Pineapple Mini': 2,\n",
       " 'Pitahaya Red': 2,\n",
       " 'Plum': 2,\n",
       " 'Plum 2': 2,\n",
       " 'Plum 3': 4,\n",
       " 'Pomegranate': 2,\n",
       " 'Pomelo Sweetie': 2,\n",
       " 'Potato Red': 2,\n",
       " 'Potato Red Washed': 3,\n",
       " 'Potato Sweet': 3,\n",
       " 'Potato White': 2,\n",
       " 'Quince': 2,\n",
       " 'Rambutan': 2,\n",
       " 'Raspberry': 2,\n",
       " 'Redcurrant': 2,\n",
       " 'Salak': 2,\n",
       " 'Strawberry': 3,\n",
       " 'Strawberry Wedge': 3,\n",
       " 'Tamarillo': 2,\n",
       " 'Tangelo': 2,\n",
       " 'Tomato 1': 3,\n",
       " 'Tomato 2': 3,\n",
       " 'Tomato 3': 3,\n",
       " 'Tomato 4': 2,\n",
       " 'Tomato Cherry Red': 2,\n",
       " 'Tomato Heart': 3,\n",
       " 'Tomato Maroon': 2,\n",
       " 'Tomato not Ripened': 2,\n",
       " 'Tomato Yellow': 2,\n",
       " 'Walnut': 3,\n",
       " 'Watermelon': 2}"
      ]
     },
     "execution_count": 2,
     "metadata": {},
     "output_type": "execute_result"
    }
   ],
   "source": [
    "import os\n",
    "from pepper.env import get_project_dir\n",
    "from fruits.storage_utils import sample_images_local_to_s3\n",
    "\n",
    "n_samples = 300\n",
    "project_dir = get_project_dir()\n",
    "bucket_name = \"pepper-labs-fruits\"\n",
    "root_path = os.path.join(project_dir, r\"dataset\\fruits-360_dataset\\Test\")\n",
    "\n",
    "sample_images_local_to_s3(root_path, bucket_name, n_samples)"
   ]
  }
 ],
 "metadata": {
  "kernelspec": {
   "display_name": "Python 3",
   "language": "python",
   "name": "python3"
  },
  "language_info": {
   "codemirror_mode": {
    "name": "ipython",
    "version": 3
   },
   "file_extension": ".py",
   "mimetype": "text/x-python",
   "name": "python",
   "nbconvert_exporter": "python",
   "pygments_lexer": "ipython3",
   "version": "3.11.1"
  },
  "orig_nbformat": 4
 },
 "nbformat": 4,
 "nbformat_minor": 2
}
